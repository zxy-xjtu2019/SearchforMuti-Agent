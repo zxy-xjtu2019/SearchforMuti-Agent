{
 "cells": [
  {
   "cell_type": "code",
   "execution_count": 3,
   "metadata": {},
   "outputs": [],
   "source": [
    "!set OPENAI_API_KEY = \"sk-KiYD91Agj55TmXhK45B4C1DbDd43478aBdFb614f66C7F1D1\"\n",
    "!set OPENAI_BASE_URL = \"https://ssapi.onechat.shop/v1\""
   ]
  },
  {
   "cell_type": "code",
   "execution_count": null,
   "metadata": {},
   "outputs": [],
   "source": [
    "### 基础测试\n",
    "import openai\n",
    "\n",
    "client = openai.OpenAI(\n",
    "    api_key=\"sk-KiYD91Agj55TmXhK45B4C1DbDd43478aBdFb614f66C7F1D1\",\n",
    "    base_url=\"https://api.onechats.cn/v1\"\n",
    "    )"
   ]
  },
  {
   "cell_type": "code",
   "execution_count": 27,
   "metadata": {},
   "outputs": [],
   "source": [
    "response = client.chat.completions.create(\n",
    "    model = \"gpt-3.5-plus\",\n",
    "    messages = [\n",
    "        {\"role\": \"system\", \"content\": \"You are a helpful assistant.\"},\n",
    "        {\"role\": \"user\", \"content\": \"请为我讲一个笑话。\"}\n",
    "    ],\n",
    "    temperature = 0.5\n",
    ")"
   ]
  },
  {
   "cell_type": "code",
   "execution_count": 32,
   "metadata": {},
   "outputs": [
    {
     "name": "stdout",
     "output_type": "stream",
     "text": [
      "为什么猫咪不喜欢在线购物？因为它们喜欢现货！哈哈哈！😄\n"
     ]
    }
   ],
   "source": [
    "print(response.choices[0].message.content)"
   ]
  },
  {
   "cell_type": "code",
   "execution_count": 45,
   "metadata": {},
   "outputs": [
    {
     "ename": "ImportError",
     "evalue": "cannot import name 'get_logger' from 'agent' (c:\\Users\\Ncoder\\Desktop\\实验相关代码\\SearchforMuti-Agent\\code\\Agent\\agents\\agent\\__init__.py)",
     "output_type": "error",
     "traceback": [
      "\u001b[1;31m---------------------------------------------------------------------------\u001b[0m",
      "\u001b[1;31mImportError\u001b[0m                               Traceback (most recent call last)",
      "Cell \u001b[1;32mIn[45], line 2\u001b[0m\n\u001b[0;32m      1\u001b[0m \u001b[38;5;66;03m#### 测试Agent模块\u001b[39;00m\n\u001b[1;32m----> 2\u001b[0m \u001b[38;5;28;01mfrom\u001b[39;00m \u001b[38;5;21;01magent\u001b[39;00m\u001b[38;5;21;01m.\u001b[39;00m\u001b[38;5;21;01mconversation\u001b[39;00m \u001b[38;5;28;01mimport\u001b[39;00m ConversationAgent\n\u001b[0;32m      4\u001b[0m conversationAgent \u001b[38;5;241m=\u001b[39m ConversationAgent()\n",
      "File \u001b[1;32mc:\\Users\\Ncoder\\Desktop\\实验相关代码\\SearchforMuti-Agent\\code\\Agent\\agents\\agent\\conversation.py:5\u001b[0m\n\u001b[0;32m      2\u001b[0m \u001b[38;5;28;01mfrom\u001b[39;00m \u001b[38;5;21;01mcolorama\u001b[39;00m \u001b[38;5;28;01mimport\u001b[39;00m Fore\n\u001b[0;32m      4\u001b[0m \u001b[38;5;66;03m# import logging\u001b[39;00m\n\u001b[1;32m----> 5\u001b[0m \u001b[38;5;28;01mfrom\u001b[39;00m \u001b[38;5;21;01m.\u001b[39;00m \u001b[38;5;28;01mimport\u001b[39;00m get_logger\n\u001b[0;32m      6\u001b[0m \u001b[38;5;28;01mimport\u001b[39;00m \u001b[38;5;21;01mbdb\u001b[39;00m\n\u001b[0;32m      7\u001b[0m \u001b[38;5;28;01mfrom\u001b[39;00m \u001b[38;5;21;01mstring\u001b[39;00m \u001b[38;5;28;01mimport\u001b[39;00m Template\n",
      "\u001b[1;31mImportError\u001b[0m: cannot import name 'get_logger' from 'agent' (c:\\Users\\Ncoder\\Desktop\\实验相关代码\\SearchforMuti-Agent\\code\\Agent\\agents\\agent\\__init__.py)"
     ]
    }
   ],
   "source": [
    "#### 测试Agent模块\n",
    "from agent.conversation import ConversationAgent\n",
    "\n",
    "conversationAgent = ConversationAgent()\n"
   ]
  }
 ],
 "metadata": {
  "kernelspec": {
   "display_name": "MulAgent",
   "language": "python",
   "name": "python3"
  },
  "language_info": {
   "codemirror_mode": {
    "name": "ipython",
    "version": 3
   },
   "file_extension": ".py",
   "mimetype": "text/x-python",
   "name": "python",
   "nbconvert_exporter": "python",
   "pygments_lexer": "ipython3",
   "version": "3.9.20"
  }
 },
 "nbformat": 4,
 "nbformat_minor": 2
}
